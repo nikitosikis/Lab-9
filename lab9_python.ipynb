{
  "nbformat": 4,
  "nbformat_minor": 0,
  "metadata": {
    "colab": {
      "provenance": []
    },
    "kernelspec": {
      "name": "python3",
      "display_name": "Python 3"
    },
    "language_info": {
      "name": "python"
    }
  },
  "cells": [
    {
      "cell_type": "markdown",
      "source": [
        "Иванов Никита Михайлович 368225 вариант 5"
      ],
      "metadata": {
        "id": "FACXH3_EozBJ"
      }
    },
    {
      "cell_type": "code",
      "execution_count": 8,
      "metadata": {
        "colab": {
          "base_uri": "https://localhost:8080/"
        },
        "id": "M28a-vftovlQ",
        "outputId": "26311b60-7516-4ae9-fdf1-9e49fef58303"
      },
      "outputs": [
        {
          "output_type": "stream",
          "name": "stdout",
          "text": [
            "Looking in indexes: https://pypi.org/simple, https://us-python.pkg.dev/colab-wheels/public/simple/\n",
            "Requirement already satisfied: Flask-SQLAlchemy in /usr/local/lib/python3.10/dist-packages (3.0.3)\n",
            "Requirement already satisfied: Flask>=2.2 in /usr/local/lib/python3.10/dist-packages (from Flask-SQLAlchemy) (2.2.4)\n",
            "Requirement already satisfied: SQLAlchemy>=1.4.18 in /usr/local/lib/python3.10/dist-packages (from Flask-SQLAlchemy) (2.0.10)\n",
            "Requirement already satisfied: Werkzeug>=2.2.2 in /usr/local/lib/python3.10/dist-packages (from Flask>=2.2->Flask-SQLAlchemy) (2.3.0)\n",
            "Requirement already satisfied: Jinja2>=3.0 in /usr/local/lib/python3.10/dist-packages (from Flask>=2.2->Flask-SQLAlchemy) (3.1.2)\n",
            "Requirement already satisfied: itsdangerous>=2.0 in /usr/local/lib/python3.10/dist-packages (from Flask>=2.2->Flask-SQLAlchemy) (2.1.2)\n",
            "Requirement already satisfied: click>=8.0 in /usr/local/lib/python3.10/dist-packages (from Flask>=2.2->Flask-SQLAlchemy) (8.1.3)\n",
            "Requirement already satisfied: typing-extensions>=4.2.0 in /usr/local/lib/python3.10/dist-packages (from SQLAlchemy>=1.4.18->Flask-SQLAlchemy) (4.5.0)\n",
            "Requirement already satisfied: greenlet!=0.4.17 in /usr/local/lib/python3.10/dist-packages (from SQLAlchemy>=1.4.18->Flask-SQLAlchemy) (2.0.2)\n",
            "Requirement already satisfied: MarkupSafe>=2.0 in /usr/local/lib/python3.10/dist-packages (from Jinja2>=3.0->Flask>=2.2->Flask-SQLAlchemy) (2.1.2)\n",
            " * Serving Flask app '__main__'\n",
            " * Debug mode: on\n"
          ]
        },
        {
          "output_type": "stream",
          "name": "stderr",
          "text": [
            "INFO:werkzeug:\u001b[31m\u001b[1mWARNING: This is a development server. Do not use it in a production deployment. Use a production WSGI server instead.\u001b[0m\n",
            " * Running on http://127.0.0.1:5000\n",
            "INFO:werkzeug:\u001b[33mPress CTRL+C to quit\u001b[0m\n",
            "INFO:werkzeug: * Restarting with stat\n"
          ]
        }
      ],
      "source": [
        "!pip install -U Flask-SQLAlchemy\n",
        "from flask import Flask, render_template, request, redirect, session\n",
        "from flask_sqlalchemy import SQLAlchemy\n",
        "from datetime import datetime\n",
        "\n",
        "app = Flask(__name__)\n",
        "app.config['SQLALCHEMY_DATABASE_URI'] = 'sqlite:///sp.db'\n",
        "app.config['SQLALCHEMY_TRACK_MODIFICATIONS'] = False\n",
        "db = SQLAlchemy(app)\n",
        "\n",
        "class Rate(db.Model):\n",
        "    id = db.Column(db.Integer, primary_key=True)\n",
        "    rate = db.Column(db.Integer, nullable=False)\n",
        "    text = db.Column(db.Text, nullable=False)\n",
        "    date = db.Column(db.DateTime, default=datetime.utcnow)\n",
        "\n",
        "    def __repr__(self):\n",
        "        return '<Note %r>' % self.id\n",
        "\n",
        "\n",
        "\n",
        "@app.route('/')\n",
        "@app.route('/notes', methods=['POST', 'GET'])\n",
        "def review():\n",
        "    if request.method == 'POST':\n",
        "        text = request.form['text']\n",
        "        rate = request.form['rate']\n",
        "        if rate > 5: rate = 5\n",
        "        if rate < 1: rate = 1\n",
        "        rate = round(rate)\n",
        "        rev = Rate(text=text, rate=rate)\n",
        "        try:\n",
        "            db.session.add(rev)\n",
        "            db.session.commit()\n",
        "            return redirect('/list')\n",
        "        except:\n",
        "            return 'Error'\n",
        "    else:\n",
        "        return render_template('reviews.html')\n",
        "\n",
        "\n",
        "@app.route('/list')\n",
        "def list():\n",
        "    lists = Rate.query.order_by(Rate.date.desc()).all()\n",
        "    return render_template(\"list.html\", list=lists)\n",
        "\n",
        "\n",
        "if __name__ == '__main__':\n",
        "    app.run(debug=True)"
      ]
    },
    {
      "cell_type": "code",
      "source": [],
      "metadata": {
        "id": "BMdgNUPPsThY"
      },
      "execution_count": null,
      "outputs": []
    }
  ]
}